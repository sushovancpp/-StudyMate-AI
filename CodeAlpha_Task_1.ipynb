{
  "nbformat": 4,
  "nbformat_minor": 0,
  "metadata": {
    "colab": {
      "provenance": [],
      "authorship_tag": "ABX9TyOKJTiKMky/Qrymc5NgZ6XS",
      "include_colab_link": true
    },
    "kernelspec": {
      "name": "python3",
      "display_name": "Python 3"
    },
    "language_info": {
      "name": "python"
    }
  },
  "cells": [
    {
      "cell_type": "markdown",
      "metadata": {
        "id": "view-in-github",
        "colab_type": "text"
      },
      "source": [
        "<a href=\"https://colab.research.google.com/github/sushovancpp/-StudyMate-AI/blob/main/CodeAlpha_Task_1.ipynb\" target=\"_parent\"><img src=\"https://colab.research.google.com/assets/colab-badge.svg\" alt=\"Open In Colab\"/></a>"
      ]
    },
    {
      "cell_type": "code",
      "execution_count": 1,
      "metadata": {
        "id": "ffm1FxDwmqMQ"
      },
      "outputs": [],
      "source": [
        "# 1. Import Libraries\n",
        "import pandas as pd\n",
        "import numpy as np\n",
        "from sklearn.model_selection import train_test_split, cross_val_score\n",
        "from sklearn.preprocessing import StandardScaler\n",
        "from sklearn.metrics import precision_score, recall_score, f1_score, roc_auc_score, confusion_matrix, classification_report\n",
        "from sklearn.linear_model import LogisticRegression\n",
        "from sklearn.tree import DecisionTreeClassifier\n",
        "from sklearn.ensemble import RandomForestClassifier"
      ]
    },
    {
      "cell_type": "code",
      "source": [
        "# 2. Load Data\n",
        "df = pd.read_csv(\"credit_data_large.csv\")  # Replace with actual dataset\n",
        "print(df.head())\n"
      ],
      "metadata": {
        "colab": {
          "base_uri": "https://localhost:8080/"
        },
        "id": "FJgtsiP5m6LE",
        "outputId": "bff3d5db-57dc-4019-c46d-1a71830cb2f6"
      },
      "execution_count": 11,
      "outputs": [
        {
          "output_type": "stream",
          "name": "stdout",
          "text": [
            "   income  debts  credit_history_years  late_payments  loans  default\n",
            "0  141958  23061                    14              3      1        0\n",
            "1   35795  13716                    15              0      3        0\n",
            "2   20860  39749                     6              6      1        1\n",
            "3  123694  39144                    11              6      3        1\n",
            "4  148106  16907                    13              3      4        0\n"
          ]
        }
      ]
    },
    {
      "cell_type": "code",
      "source": [
        "# 3. Preprocessing\n",
        "# Handle missing values\n",
        "df.fillna(df.median(), inplace=True)\n",
        "\n",
        "# Encode categorical variables\n",
        "df = pd.get_dummies(df, drop_first=True)\n",
        "\n",
        "# Feature scaling\n",
        "scaler = StandardScaler()\n",
        "scaled_features = scaler.fit_transform(df.drop(\"default\", axis=1))  # 'default' is target variable\n",
        "X = scaled_features\n",
        "y = df[\"default\"]"
      ],
      "metadata": {
        "id": "65WKeyCBm6rH"
      },
      "execution_count": 12,
      "outputs": []
    },
    {
      "cell_type": "code",
      "source": [
        "# 4. Train-Test Split\n",
        "X_train, X_test, y_train, y_test = train_test_split(X, y, test_size=0.2, random_state=42)\n"
      ],
      "metadata": {
        "id": "5Wx8o61Vm62_"
      },
      "execution_count": 13,
      "outputs": []
    },
    {
      "cell_type": "code",
      "source": [
        "# 5. Model Training & Evaluation\n",
        "models = {\n",
        "    \"Logistic Regression\": LogisticRegression(),\n",
        "    \"Decision Tree\": DecisionTreeClassifier(),\n",
        "    \"Random Forest\": RandomForestClassifier()\n",
        "}\n",
        "\n",
        "for name, model in models.items():\n",
        "    model.fit(X_train, y_train)\n",
        "    y_pred = model.predict(X_test)"
      ],
      "metadata": {
        "id": "Cvf3RmECm7DA"
      },
      "execution_count": 14,
      "outputs": []
    },
    {
      "cell_type": "code",
      "source": [
        "\n",
        "\n",
        "    # 6. Evaluation\n",
        "    print(f\"Model: {name}\")\n",
        "    print(\"Precision:\", precision_score(y_test, y_pred))\n",
        "    print(\"Recall:\", recall_score(y_test, y_pred))\n",
        "    print(\"F1-Score:\", f1_score(y_test, y_pred))\n",
        "    print(\"ROC-AUC:\", roc_auc_score(y_test, model.predict_proba(X_test)[:, 1]))\n",
        "    print(\"Classification Report:\\n\", classification_report(y_test, y_pred))\n",
        "    print(\"-\"*50)\n"
      ],
      "metadata": {
        "colab": {
          "base_uri": "https://localhost:8080/"
        },
        "id": "fcYxjxRYm79N",
        "outputId": "82570897-f94d-4c9e-c531-61c6c0c45fa5"
      },
      "execution_count": 15,
      "outputs": [
        {
          "output_type": "stream",
          "name": "stdout",
          "text": [
            "Model: Random Forest\n",
            "Precision: 0.9943181818181818\n",
            "Recall: 0.9887005649717514\n",
            "F1-Score: 0.9915014164305949\n",
            "ROC-AUC: 0.9995964487489911\n",
            "Classification Report:\n",
            "               precision    recall  f1-score   support\n",
            "\n",
            "           0       0.97      0.98      0.98        63\n",
            "           1       0.99      0.99      0.99       177\n",
            "\n",
            "    accuracy                           0.99       240\n",
            "   macro avg       0.98      0.99      0.98       240\n",
            "weighted avg       0.99      0.99      0.99       240\n",
            "\n",
            "--------------------------------------------------\n"
          ]
        }
      ]
    }
  ]
}